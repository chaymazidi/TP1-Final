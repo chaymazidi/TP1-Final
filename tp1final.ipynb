{
 "cells": [
  {
   "cell_type": "markdown",
   "id": "b854735a",
   "metadata": {},
   "source": [
    "# <font color=red>TP1 :  Résolution de l'équation non-linéaire </font>"
   ]
  },
  {
   "cell_type": "markdown",
   "id": "6969f837",
   "metadata": {},
   "source": [
    "##  <font color=green>Exercice 1 : </font>"
   ]
  },
  {
   "cell_type": "code",
   "execution_count": 5,
   "id": "834b2c97",
   "metadata": {},
   "outputs": [],
   "source": [
    "def f(x):\n",
    "    return   x**6-6*x**5+15*x**4-20*x**3+15*x**2-6*x+1"
   ]
  },
  {
   "cell_type": "code",
   "execution_count": 6,
   "id": "8fb5caeb",
   "metadata": {},
   "outputs": [],
   "source": [
    "def p(x):\n",
    "    return (x-1)**6"
   ]
  },
  {
   "cell_type": "code",
   "execution_count": 7,
   "id": "da5c8af4",
   "metadata": {},
   "outputs": [
    {
     "data": {
      "text/plain": [
       "6.400000000000034e-17"
      ]
     },
     "execution_count": 7,
     "metadata": {},
     "output_type": "execute_result"
    }
   ],
   "source": [
    "p(0.998)\n"
   ]
  },
  {
   "cell_type": "code",
   "execution_count": 8,
   "id": "95de7b89",
   "metadata": {},
   "outputs": [
    {
     "data": {
      "text/plain": [
       "1.7763568394002505e-15"
      ]
     },
     "execution_count": 8,
     "metadata": {},
     "output_type": "execute_result"
    }
   ],
   "source": [
    "f(0.998)\n"
   ]
  },
  {
   "cell_type": "markdown",
   "id": "eda6736e",
   "metadata": {},
   "source": [
    "<b> p(x) et f(x) sont deux fonctions égaux mais ils n'ont pas les même résultats se qui montre que l'ordinateur ne fait pas le calcule correctement car l'ordinateur code seulement sur 32 ou 64 bits alors il va coder seulement une partie du nombre calculé il fait l'arrondit de cette valeur c'est l'erreur de codage d'où les valeurs calculer par l'ordinateur sont fausses . "
   ]
  },
  {
   "cell_type": "markdown",
   "id": "296e12cd",
   "metadata": {},
   "source": [
    "###  <font color=purple> la méthode Horner\n",
    " </font>\n"
   ]
  },
  {
   "cell_type": "code",
   "execution_count": 9,
   "id": "60d93094",
   "metadata": {},
   "outputs": [],
   "source": [
    "def horner(a,x):\n",
    "    n=len(a)\n",
    "    valeur=a[1]\n",
    "    for i in range(2,n):\n",
    "        valeur=valeur*x+a[i]\n",
    "    return valeur\n"
   ]
  },
  {
   "cell_type": "code",
   "execution_count": 10,
   "id": "c13170cc",
   "metadata": {},
   "outputs": [],
   "source": [
    "def f(x):\n",
    "    return   x**6-6*x**5+15*x**4-20*x**3+15*x**2-6*x+1"
   ]
  },
  {
   "cell_type": "code",
   "execution_count": 11,
   "id": "ebd4fbf1",
   "metadata": {},
   "outputs": [],
   "source": [
    "def p(x):\n",
    "    return (x-1)**6"
   ]
  },
  {
   "cell_type": "code",
   "execution_count": 12,
   "id": "672f0b1d",
   "metadata": {},
   "outputs": [
    {
     "name": "stdout",
     "output_type": "stream",
     "text": [
      "[1, -6, 15, -20, 15, -6, 1]\n",
      "--------------p(i)----------\n",
      "ans= 6.400000000000034e-17\n",
      "ans= 0.994014980014994\n",
      "ans= 6.400000000000034e-17\n",
      "--------------f(i)----------\n",
      "ans= 1.7763568394002505e-15\n",
      "ans= 0.994014980014994\n",
      "ans= 1.7763568394002505e-15\n",
      "----------horner---------\n",
      "ans= -0.9880598402398078\n",
      "ans= 0.994014980014994\n",
      "ans= -1.0120601602401922\n"
     ]
    }
   ],
   "source": [
    "T=[1,-6,15,-20,15,-6,1]\n",
    "print(T)\n",
    "print('--------------p(i)----------')\n",
    "ii=[0.998,0.001,1.002]\n",
    "for i in ii:\n",
    "    print('ans=',p(i)) \n",
    "print('--------------f(i)----------')\n",
    "ii=[0.998,0.001,1.002]\n",
    "for i in ii:\n",
    "    print('ans=',f(i)) \n",
    "print('----------horner---------')\n",
    "ii=[0.998,0.001,1.002]\n",
    "for i in ii:\n",
    "    print('ans=',horner(T,i)) "
   ]
  },
  {
   "cell_type": "markdown",
   "id": "1d9fc16b",
   "metadata": {},
   "source": [
    "<b> si on remplace la valeur à calculer directement dans la fonction donc on va faire presque 26 opérations pour cette raison le mathématicien Horner utilise son algorithme pour calculer la valeur donnée avec la moitié des opérations utilisé"
   ]
  },
  {
   "cell_type": "markdown",
   "id": "a5c87a34",
   "metadata": {},
   "source": [
    "###  <font color=red> Représentation graphique de 𝑓(𝑥) et 𝑝(𝑥)\n",
    " </font>"
   ]
  },
  {
   "cell_type": "markdown",
   "id": "0b1feaee",
   "metadata": {},
   "source": [
    "####  <font color=green> Représentation graphique de la fonction px\n",
    " </font>"
   ]
  },
  {
   "cell_type": "code",
   "execution_count": 14,
   "id": "22b8ae0d",
   "metadata": {},
   "outputs": [
    {
     "data": {
      "text/plain": [
       "[<matplotlib.lines.Line2D at 0x25fd50bb310>]"
      ]
     },
     "execution_count": 14,
     "metadata": {},
     "output_type": "execute_result"
    },
    {
     "data": {
      "image/png": "[encoded data removed]",
      "text/plain": [
       "<Figure size 432x288 with 1 Axes>"
      ]
     },
     "metadata": {
      "needs_background": "light"
     },
     "output_type": "display_data"
    }
   ],
   "source": [
    "import matplotlib.pyplot as plt\n",
    "import numpy as np\n",
    "x1= np.arange(0.998,1.002,0.0001)\n",
    "plt.xlabel(\"x\")\n",
    "plt.ylabel(\"px\")\n",
    "plt.grid(True)\n",
    "plt.plot(x1,p(x1))"
   ]
  },
  {
   "cell_type": "markdown",
   "id": "976377d5",
   "metadata": {},
   "source": [
    "####  <font color=green> Représentation graphique de la fonction fx\n",
    " </font>"
   ]
  },
  {
   "cell_type": "code",
   "execution_count": 15,
   "id": "910ffbe8",
   "metadata": {},
   "outputs": [
    {
     "data": {
      "text/plain": [
       "[<matplotlib.lines.Line2D at 0x25fd512e370>]"
      ]
     },
     "execution_count": 15,
     "metadata": {},
     "output_type": "execute_result"
    },
    {
     "data": {
      "image/png": "[encoded data removed]",
      "text/plain": [
       "<Figure size 432x288 with 1 Axes>"
      ]
     },
     "metadata": {
      "needs_background": "light"
     },
     "output_type": "display_data"
    }
   ],
   "source": [
    "import matplotlib.pyplot as plt\n",
    "import numpy as np\n",
    "x2= np.arange(0.998,1.002,0.0001)\n",
    "plt.xlabel(\"x\")\n",
    "plt.ylabel(\"fx\")\n",
    "plt.grid(True)\n",
    "plt.plot(x2,f(x2),color='r')\n",
    "plt.plot(x1,p(x1),'*')"
   ]
  },
  {
   "cell_type": "markdown",
   "id": "a70734cc",
   "metadata": {},
   "source": [
    "<b> l'erreur d'arrondi est la différence entre la valeur approchée calculée d'un nombre et sa valeur mathématique exacte. \n",
    "    \n",
    "   Des erreurs d'arrondi naissent généralement lorsque des nombres exacts sont représentés dans un système incapable de les exprimer exactement.\n",
    "  Les erreurs d'arrondi se propagent au cours des calculs avec des valeurs approchées ce qui peut augmenter l'erreur du résultat final.\n",
    "    \n",
    "La représentation graphique de p(x) : plus clair , plus lisible que celle de f(x)"
   ]
  },
  {
   "cell_type": "markdown",
   "id": "1ea622cf",
   "metadata": {},
   "source": [
    "##  <font color=green>Exercice 2 : </font>\n"
   ]
  },
  {
   "cell_type": "markdown",
   "id": "5ac00cd0",
   "metadata": {},
   "source": [
    "<b> On considère l'équation :f(𝑥)=𝑥3+𝑥2−3𝑥−3=0\n"
   ]
  },
  {
   "cell_type": "code",
   "execution_count": 16,
   "id": "b899f743",
   "metadata": {},
   "outputs": [],
   "source": [
    "def f(x):\n",
    "    return  x**3+x**2-3*x-3"
   ]
  },
  {
   "cell_type": "markdown",
   "id": "1b6800be",
   "metadata": {},
   "source": [
    "<b> 1) Dessiner la courbe de 𝑓 dans l'intervalle [−2;2] , puis trouver des intervalles convenables pour appliquer la méthode de >bisection."
   ]
  },
  {
   "cell_type": "code",
   "execution_count": 17,
   "id": "369d8eec",
   "metadata": {},
   "outputs": [
    {
     "data": {
      "text/plain": [
       "[<matplotlib.lines.Line2D at 0x25fd518db80>]"
      ]
     },
     "execution_count": 17,
     "metadata": {},
     "output_type": "execute_result"
    },
    {
     "data": {
      "image/png": "[encoded data removed]",
      "text/plain": [
       "<Figure size 432x288 with 1 Axes>"
      ]
     },
     "metadata": {
      "needs_background": "light"
     },
     "output_type": "display_data"
    }
   ],
   "source": [
    "import matplotlib.pyplot as plt\n",
    "from numpy import linspace\n",
    "f=lambda x: x**3+x**2-3*x-3\n",
    "T=linspace(-2,2,41)\n",
    "plt.title(\"solution dans [-2:2] \");\n",
    "plt.xlabel(\"x\")\n",
    "plt.ylabel (\"f(x)\")\n",
    "plt.grid(True)\n",
    "plt.plot(T,f(T))"
   ]
  },
  {
   "cell_type": "markdown",
   "id": "cec48a1c",
   "metadata": {},
   "source": [
    "<b> Daprés le graph de $f$ il existe 3 solutions :\n",
    "    \n",
    "$\\alpha_1 \\in ]-2;-1.5[$\n",
    "    \n",
    "$\\alpha_2 \\in ]-1.5;-0.5[$\n",
    "    \n",
    "$\\alpha_3 \\in ]1.5;2[$"
   ]
  },
  {
   "cell_type": "markdown",
   "id": "be8bf4e0",
   "metadata": {},
   "source": [
    "<b> 2) Utiliser un programme dicho.m qui permettra de trouver les solutions de l'équation 𝑓(𝑥)=0 avec 𝑒𝑝𝑠=0.001 ."
   ]
  },
  {
   "cell_type": "markdown",
   "id": "90d9e7bf",
   "metadata": {},
   "source": [
    "\n",
    "###  <font color=red> la methode dichotomie\n",
    " </font>\n"
   ]
  },
  {
   "cell_type": "code",
   "execution_count": 18,
   "id": "7186e4cc",
   "metadata": {},
   "outputs": [],
   "source": [
    "def dicho(a,b,f,n):\n",
    "    m=(a+b)/2\n",
    "    err=abs(b-a)\n",
    "    while err>n:\n",
    "        if m==0:\n",
    "            break\n",
    "        if f(a)*f(b)<0:\n",
    "            b=m\n",
    "        else:\n",
    "            a=m\n",
    "            m=(a+b)/2\n",
    "            err=abs(b-a)\n",
    "    return m"
   ]
  },
  {
   "cell_type": "code",
   "execution_count": 19,
   "id": "3bf4fb52",
   "metadata": {},
   "outputs": [
    {
     "name": "stdout",
     "output_type": "stream",
     "text": [
      "-1.75\n"
     ]
    }
   ],
   "source": [
    "x3=dicho(-2,-1.5,f,10)\n",
    "#x10=dicho(-2,-1.5,f,10)\n",
    "#x20=dicho(-2,-1.5,f,20)\n",
    "#print(x3,x10,x20)\n",
    "print(x3)"
   ]
  },
  {
   "cell_type": "markdown",
   "id": "20d854c8",
   "metadata": {},
   "source": [
    "\n",
    "###  <font color=red> la 2éme methode dichotomie\n",
    " </font>\n"
   ]
  },
  {
   "cell_type": "code",
   "execution_count": 20,
   "id": "c9b5e3bc",
   "metadata": {},
   "outputs": [],
   "source": [
    "def madichotomie(ff,a,b,e):\n",
    "    xg=a\n",
    "    xd=b\n",
    "    while (xd-xg)>e:\n",
    "        xm=(xg+xd) / 2\n",
    "        if f(xg)*f(xm) >0:\n",
    "            xg=xm\n",
    "        else:\n",
    "            xd=xm\n",
    "    sol=(xg+xd)/2\n",
    "    return sol\n",
    "    "
   ]
  },
  {
   "cell_type": "code",
   "execution_count": 21,
   "id": "17d6dfcb",
   "metadata": {},
   "outputs": [
    {
     "data": {
      "text/plain": [
       "-1.73193359375"
      ]
     },
     "execution_count": 21,
     "metadata": {},
     "output_type": "execute_result"
    }
   ],
   "source": [
    "res=madichotomie(f,-2,-1.5,0.001)\n",
    "res"
   ]
  },
  {
   "cell_type": "markdown",
   "id": "abb5040d",
   "metadata": {},
   "source": [
    "<b> 3) Modifier le programme dicho.m pour qu'il donne le nombre d'itération nécessaire pour avoir la solution à 𝑒𝑝𝑠 près."
   ]
  },
  {
   "cell_type": "code",
   "execution_count": 22,
   "id": "bfa0ef3f",
   "metadata": {},
   "outputs": [],
   "source": [
    "def dichow(a,b,f,eps):\n",
    "    cp=0\n",
    "    while (b-a)>eps:\n",
    "        m=(a+b)/2\n",
    "        if f(m)==0:\n",
    "            return m\n",
    "        if f(a)*f(m)<0 :\n",
    "            b=m\n",
    "        else :\n",
    "            a=m\n",
    "        cp+=1\n",
    "    return m,cp"
   ]
  },
  {
   "cell_type": "markdown",
   "id": "a255608b",
   "metadata": {},
   "source": [
    "$\\alpha_1 \\in ]-2;-1.5[$\n",
    "\n",
    "$\\alpha_2 \\in ]-1.5;-0.5[$\n",
    "\n",
    "$\\alpha_3 \\in ]1.5;2[$"
   ]
  },
  {
   "cell_type": "code",
   "execution_count": 23,
   "id": "268a8abf",
   "metadata": {},
   "outputs": [
    {
     "data": {
      "text/plain": [
       "(-1.73199462890625, 13)"
      ]
     },
     "execution_count": 23,
     "metadata": {},
     "output_type": "execute_result"
    }
   ],
   "source": [
    "dichow(-2,-1.5,f,0.0001)\n"
   ]
  },
  {
   "cell_type": "code",
   "execution_count": 24,
   "id": "2178c700",
   "metadata": {},
   "outputs": [
    {
     "name": "stdout",
     "output_type": "stream",
     "text": [
      "(-1.7314453125, 9)\n",
      "-1.0\n",
      "(1.7314453125, 9)\n",
      "(-1.7314453125, 9)\n",
      "-1.0\n",
      "(1.7314453125, 9)\n"
     ]
    }
   ],
   "source": [
    "interval=[[-2,-1.5],[-1.5,-0.5],[1.5,2]]\n",
    "for u in interval:\n",
    "    print(dichow(u[0],u[1],f,10**(-3)))\n",
    "################################################   \n",
    "print(dichow(-2,-1.5,f,10**(-3)))\n",
    "print(dichow(-1.5,-0.5,f,10**(-3)))\n",
    "print(dichow(1.5,2,f,10**(-3)))"
   ]
  },
  {
   "cell_type": "markdown",
   "id": "e80bb2cf",
   "metadata": {},
   "source": [
    "<b> Le nombre d'itération N nécéssaire à la méthode de la dichotomie pour trouver $\\alpha$ à $10^{-p}$ prés"
   ]
  },
  {
   "cell_type": "code",
   "execution_count": 25,
   "id": "c6e132d7",
   "metadata": {},
   "outputs": [
    {
     "data": {
      "text/plain": [
       "(-1.7320480346679688, 16)"
      ]
     },
     "execution_count": 25,
     "metadata": {},
     "output_type": "execute_result"
    }
   ],
   "source": [
    "#alpha 1\n",
    "dichow(-2,-1.5,f,10**(-5))\n",
    "#à 10^-8"
   ]
  },
  {
   "cell_type": "code",
   "execution_count": 26,
   "id": "e42b7a94",
   "metadata": {},
   "outputs": [
    {
     "data": {
      "text/plain": [
       "(-0.9999990081787109, 17)"
      ]
     },
     "execution_count": 26,
     "metadata": {},
     "output_type": "execute_result"
    }
   ],
   "source": [
    "#alpha 2\n",
    "dichow(-1.51,-0.5,f,10**(-5))\n",
    "#à 10^-8"
   ]
  },
  {
   "cell_type": "markdown",
   "id": "71768c1d",
   "metadata": {},
   "source": [
    "<b> Transformer le code précédent pour trouver desvaleurs approchées des solutions $\\alpha_1$, $\\alpha_2$ et $\\alpha_3$ de l'equation (E)"
   ]
  },
  {
   "cell_type": "markdown",
   "id": "a24fb420",
   "metadata": {},
   "source": [
    "###  <font color=red> Conclusion\n",
    " </font>\n"
   ]
  },
  {
   "cell_type": "markdown",
   "id": "eccff781",
   "metadata": {},
   "source": [
    "<b> La méthode de dichotomie ou méthode de la bissection est un algorithme de recherche d'un zéro d'une fonction qui consiste à répéter des partages d’un intervalle en deux parties puis à sélectionner le sous-intervalle dans lequel existe un zéro de la fonction."
   ]
  },
  {
   "cell_type": "markdown",
   "id": "a6e815d5",
   "metadata": {},
   "source": [
    "##  <font color=green>Exercice 3 : </font>\n"
   ]
  },
  {
   "cell_type": "markdown",
   "id": "fa585694",
   "metadata": {},
   "source": [
    "<b> 1) Dessiner la courbe de 𝑓 dans l'intervalle [1;2] , puis trouver une valeur approché de la solution à 0.001 près (En >utilisant la fonction zoom du graphique)"
   ]
  },
  {
   "cell_type": "code",
   "execution_count": 27,
   "id": "eee722aa",
   "metadata": {},
   "outputs": [
    {
     "data": {
      "image/png": "[encoded data removed]",
      "text/plain": [
       "<Figure size 432x288 with 4 Axes>"
      ]
     },
     "metadata": {
      "needs_background": "light"
     },
     "output_type": "display_data"
    }
   ],
   "source": [
    "%matplotlib inline\n",
    "#import mpld3\n",
    "#mpld3.enable_notebook()\n",
    "import numpy as np \n",
    "import matplotlib.pyplot as plt\n",
    "\n",
    "f=lambda x:x**3+4*x**2-10\n",
    "\n",
    "t=np.linspace(1,2,100)\n",
    "plt.subplot(2,2,1)\n",
    "plt.plot(t,f(t),'r')\n",
    "plt.grid(True)\n",
    "##########################################\n",
    "t=np.linspace(1.2,1.4,100)\n",
    "plt.subplot(2,2,2)\n",
    "plt.plot(t,f(t),'r')\n",
    "plt.grid(True)\n",
    "##########################################\n",
    "t=np.linspace(1.35,1.4,100)\n",
    "plt.subplot(2,2,3)\n",
    "plt.plot(t,f(t),'r')\n",
    "plt.grid(True)\n",
    "#########################################\n",
    "t=np.linspace(1.365,1.367,100)\n",
    "plt.subplot(2,2,4)\n",
    "plt.plot(t,f(t),'r')\n",
    "plt.grid(True)"
   ]
  },
  {
   "cell_type": "code",
   "execution_count": 28,
   "id": "b250a48a",
   "metadata": {},
   "outputs": [],
   "source": [
    "from sympy import *\n",
    "import numpy as np\n",
    "x, y, z = symbols('x y z')\n",
    "init_printing(use_unicode=True)"
   ]
  },
  {
   "cell_type": "code",
   "execution_count": 29,
   "id": "9c15e63d",
   "metadata": {},
   "outputs": [
    {
     "data": {
      "image/png": "[encoded data removed]",
      "text/latex": [
       "$\\displaystyle -0.511744628292746$"
      ],
      "text/plain": [
       "-0.5117446282927461"
      ]
     },
     "execution_count": 29,
     "metadata": {},
     "output_type": "execute_result"
    }
   ],
   "source": [
    "def g1(x):\n",
    "    return 1/2*sqrt(10-x**3)\n",
    "\n",
    "g1=lambda x: 1/2*sqrt(10-x**3)\n",
    "dg1=lambdify(x,diff(g1(x),x,1))\n",
    "dg1(1.365)"
   ]
  },
  {
   "cell_type": "markdown",
   "id": "16ea30bb",
   "metadata": {},
   "source": [
    "<b> Que pouvez vous conclure à propos des convergences de g1:"
   ]
  },
  {
   "cell_type": "markdown",
   "id": "92437472",
   "metadata": {},
   "source": [
    "Puisque la valeur de g1 est négatife et la valeur absolu de g1 |g1(x)| est inférieur à 1 donc la méthode de point fixe converge totalemen, c'est à dire, il exixteun locale I dans l'intervale [1,2].\n",
    "\n"
   ]
  },
  {
   "cell_type": "code",
   "execution_count": 30,
   "id": "40d7c57b",
   "metadata": {},
   "outputs": [],
   "source": [
    "from math import sqrt\n",
    "\n",
    "g1=lambda x: 1/2*sqrt(10-x**3)\n",
    "g2=lambda x: sqrt(10./(x+4))\n",
    "g3=lambda x: x-x**3-4*x**2 + 10"
   ]
  },
  {
   "cell_type": "code",
   "execution_count": 31,
   "id": "bc7ef65d",
   "metadata": {},
   "outputs": [],
   "source": [
    "def pointfixe(g,x0,eps,nmax):\n",
    "    zero=x0\n",
    "    for niter in range(0,nmax):\n",
    "        x=zero\n",
    "        zero=g1(x)\n",
    "        erreur=abs(zero-x)\n",
    "        if erreur<eps: \n",
    "            return x"
   ]
  },
  {
   "cell_type": "code",
   "execution_count": 32,
   "id": "7e6107f9",
   "metadata": {},
   "outputs": [
    {
     "name": "stdout",
     "output_type": "stream",
     "text": [
      "1.364878217193677\n"
     ]
    }
   ],
   "source": [
    "print(pointfixe(g1,1.5,0.001,50))\n"
   ]
  },
  {
   "cell_type": "code",
   "execution_count": 33,
   "id": "28b3680d",
   "metadata": {},
   "outputs": [
    {
     "name": "stdout",
     "output_type": "stream",
     "text": [
      "1.364878217193677\n"
     ]
    }
   ],
   "source": [
    "print(pointfixe(g2,1.5,0.001,50))\n"
   ]
  },
  {
   "cell_type": "code",
   "execution_count": 34,
   "id": "9a911953",
   "metadata": {},
   "outputs": [
    {
     "name": "stdout",
     "output_type": "stream",
     "text": [
      "1.364878217193677\n"
     ]
    }
   ],
   "source": [
    "print(pointfixe(g3,1.5,0.001,50))\n"
   ]
  },
  {
   "cell_type": "markdown",
   "id": "eebffad0",
   "metadata": {},
   "source": [
    "##  <font color=green>Exercice 4 : </font>\n"
   ]
  },
  {
   "cell_type": "code",
   "execution_count": 35,
   "id": "56e21ec8",
   "metadata": {},
   "outputs": [],
   "source": [
    "def newton(a,eps):\n",
    "    x1=a\n",
    "    x2=x1-f(x1)/fprime(x1)\n",
    "    \n",
    "    while abs(x1-x2)>eps:\n",
    "        x1=x2\n",
    "        x2=x1-f(x1)/fprime(x1)\n",
    "        sol=x2\n",
    "    return sol"
   ]
  },
  {
   "cell_type": "code",
   "execution_count": 36,
   "id": "17744e26",
   "metadata": {},
   "outputs": [],
   "source": [
    "#importation\n",
    "import matplotlib.pyplot as plt\n",
    "from numpy import linspace\n",
    "from math import exp, expm1\n",
    "import numpy as np "
   ]
  },
  {
   "cell_type": "code",
   "execution_count": 37,
   "id": "f21000cb",
   "metadata": {},
   "outputs": [
    {
     "data": {
      "image/png": "[encoded data removed]",
      "text/plain": [
       "<Figure size 432x288 with 1 Axes>"
      ]
     },
     "metadata": {
      "needs_background": "light"
     },
     "output_type": "display_data"
    }
   ],
   "source": [
    "def f(x):\n",
    "    return exp(-x)-x\n",
    "\n",
    "def fprime(x):\n",
    "    return -exp(-x)-1\n",
    "\n",
    "f2 = np.vectorize(f)\n",
    "t=np.linspace(0,1,100)\n",
    "plt.plot(t,f2(t),'y')\n",
    "plt.show()"
   ]
  },
  {
   "cell_type": "code",
   "execution_count": 38,
   "id": "dbb92b23",
   "metadata": {},
   "outputs": [
    {
     "name": "stdout",
     "output_type": "stream",
     "text": [
      "0.5671431650348622\n"
     ]
    }
   ],
   "source": [
    "print(newton(0,0.001))\n"
   ]
  },
  {
   "cell_type": "code",
   "execution_count": 39,
   "id": "c1ddefef",
   "metadata": {},
   "outputs": [
    {
     "name": "stdout",
     "output_type": "stream",
     "text": [
      "0.567143285989123\n"
     ]
    }
   ],
   "source": [
    "print(newton(1,0.001))\n"
   ]
  },
  {
   "cell_type": "markdown",
   "id": "c6138e5e",
   "metadata": {},
   "source": [
    "###  <font color=red> Conclusion\n",
    " </font>"
   ]
  },
  {
   "cell_type": "markdown",
   "id": "ddbbf936",
   "metadata": {},
   "source": [
    "<b> Après les trois méthodes que nous avons déjà vues (Dichotomie,Point fixe et Newton), nous remarquons que la méthode de Newton est la plus rapide et la plus simple, ce qui nous donne un taux d'erreur très faible, tandis que la méthode de point fixe donne un taux d'erreur moyen et la dernière, qui est la méthode de dichotomie la plus lente qui est très lente et prend beaucoup de temps Pour les calculer en plus d'un grand nombre d'erreurs."
   ]
  },
  {
   "cell_type": "code",
   "execution_count": null,
   "id": "30e7dc97",
   "metadata": {},
   "outputs": [],
   "source": []
  }
 ],
 "metadata": {
  "kernelspec": {
   "display_name": "Python 3",
   "language": "python",
   "name": "python3"
  },
  "language_info": {
   "codemirror_mode": {
    "name": "ipython",
    "version": 3
   },
   "file_extension": ".py",
   "mimetype": "text/x-python",
   "name": "python",
   "nbconvert_exporter": "python",
   "pygments_lexer": "ipython3",
   "version": "3.8.8"
  }
 },
 "nbformat": 4,
 "nbformat_minor": 5
}
